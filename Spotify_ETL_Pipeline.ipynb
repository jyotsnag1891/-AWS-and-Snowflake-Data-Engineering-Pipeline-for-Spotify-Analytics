{
 "cells": [
  {
   "cell_type": "code",
   "execution_count": 3,
   "id": "a1ac3228-b99e-4ec7-8adc-ef7aa01031d7",
   "metadata": {},
   "outputs": [
    {
     "name": "stdout",
     "output_type": "stream",
     "text": [
      "Requirement already satisfied: spotipy in c:\\users\\neera\\anaconda3\\lib\\site-packages (2.23.0)\n",
      "Requirement already satisfied: redis>=3.5.3 in c:\\users\\neera\\anaconda3\\lib\\site-packages (from spotipy) (5.0.1)\n",
      "Requirement already satisfied: requests>=2.25.0 in c:\\users\\neera\\anaconda3\\lib\\site-packages (from spotipy) (2.31.0)\n",
      "Requirement already satisfied: urllib3>=1.26.0 in c:\\users\\neera\\anaconda3\\lib\\site-packages (from spotipy) (2.1.0)\n",
      "Requirement already satisfied: six>=1.15.0 in c:\\users\\neera\\anaconda3\\lib\\site-packages (from spotipy) (1.16.0)\n",
      "Requirement already satisfied: async-timeout>=4.0.2 in c:\\users\\neera\\anaconda3\\lib\\site-packages (from redis>=3.5.3->spotipy) (4.0.2)\n",
      "Requirement already satisfied: charset-normalizer<4,>=2 in c:\\users\\neera\\anaconda3\\lib\\site-packages (from requests>=2.25.0->spotipy) (2.0.4)\n",
      "Requirement already satisfied: certifi>=2017.4.17 in c:\\users\\neera\\anaconda3\\lib\\site-packages (from requests>=2.25.0->spotipy) (2022.9.14)\n",
      "Requirement already satisfied: idna<4,>=2.5 in c:\\users\\neera\\anaconda3\\lib\\site-packages (from requests>=2.25.0->spotipy) (2.8)\n"
     ]
    }
   ],
   "source": [
    "!pip install spotipy\n"
   ]
  },
  {
   "cell_type": "code",
   "execution_count": 37,
   "id": "142dead8-875d-4cfb-9474-23ddac8cd12a",
   "metadata": {},
   "outputs": [],
   "source": [
    "import spotipy\n",
    "from spotipy.oauth2 import SpotifyClientCredentials\n",
    "import pandas as pd"
   ]
  },
  {
   "cell_type": "code",
   "execution_count": 6,
   "id": "f290c6cf-9122-45c0-a38a-0c55ce819e58",
   "metadata": {},
   "outputs": [],
   "source": [
    "client_credentials_manager = SpotifyClientCredentials(client_id=\"18ec98e42de84d9d90e3de0b95968762\", client_secret=\"747eb63b626c4927bdf7b0045133d18f\")"
   ]
  },
  {
   "cell_type": "code",
   "execution_count": 8,
   "id": "b19ee0d9-85ed-45db-b197-4cd01de71ca7",
   "metadata": {},
   "outputs": [],
   "source": [
    "spotify = spotipy.Spotify(client_credentials_manager=client_credentials_manager)"
   ]
  },
  {
   "cell_type": "code",
   "execution_count": 9,
   "id": "7c247f63-5b83-46d1-9e84-7f81fe7fc05a",
   "metadata": {},
   "outputs": [],
   "source": [
    "playlist_link=\"https://open.spotify.com/playlist/37i9dQZEVXbNG2KDcFcKOF?si=1333723a6eff4b7f\""
   ]
  },
  {
   "cell_type": "code",
   "execution_count": 13,
   "id": "df814503-eace-4c57-8836-3f3565a8b41d",
   "metadata": {},
   "outputs": [],
   "source": [
    "playlist_URI= playlist_link.split(\"/\")[-1].split(\"?\")[0]"
   ]
  },
  {
   "cell_type": "code",
   "execution_count": 15,
   "id": "002d5663-d2e8-4af8-91f5-de3242c4ae80",
   "metadata": {},
   "outputs": [
    {
     "name": "stderr",
     "output_type": "stream",
     "text": [
      "Couldn't read cache at: .cache\n",
      "Couldn't write token to cache at: .cache\n"
     ]
    }
   ],
   "source": [
    "data=spotify.playlist_tracks(playlist_URI)"
   ]
  },
  {
   "cell_type": "code",
   "execution_count": 21,
   "id": "b8fab879-c4b1-4cc8-a71f-6893e40c6acf",
   "metadata": {},
   "outputs": [
    {
     "data": {
      "text/plain": [
       "'2B9amdrHDIKOoEiPUfZGtb'"
      ]
     },
     "execution_count": 21,
     "metadata": {},
     "output_type": "execute_result"
    }
   ],
   "source": [
    "data['items'][0]['track']['album']['id']"
   ]
  },
  {
   "cell_type": "code",
   "execution_count": 26,
   "id": "ee19a6f3-5cb8-417a-90dd-6abb31969bb1",
   "metadata": {},
   "outputs": [
    {
     "name": "stdout",
     "output_type": "stream",
     "text": [
      "{'album_id': '2B9amdrHDIKOoEiPUfZGtb', 'name': 'yes, and?', 'release_date': '2024-01-12', 'total_tracks': 1, 'url': 'https://open.spotify.com/album/2B9amdrHDIKOoEiPUfZGtb'}\n",
      "{'album_id': '2IoSjweCu07y9mv5H1Cj3v', 'name': 'La Diabla', 'release_date': '2023-11-30', 'total_tracks': 1, 'url': 'https://open.spotify.com/album/2IoSjweCu07y9mv5H1Cj3v'}\n",
      "{'album_id': '3UOV8XvCwMKaATRNXrYCjN', 'name': 'greedy', 'release_date': '2023-09-15', 'total_tracks': 1, 'url': 'https://open.spotify.com/album/3UOV8XvCwMKaATRNXrYCjN'}\n",
      "{'album_id': '6VCO0fDBGbRW8mCEvV95af', 'name': 'Lovin On Me', 'release_date': '2023-11-10', 'total_tracks': 1, 'url': 'https://open.spotify.com/album/6VCO0fDBGbRW8mCEvV95af'}\n",
      "{'album_id': '2Cn1d2KgbkAqbZCJ1RzdkA', 'name': 'The Land Is Inhospitable and So Are We', 'release_date': '2023-09-15', 'total_tracks': 11, 'url': 'https://open.spotify.com/album/2Cn1d2KgbkAqbZCJ1RzdkA'}\n",
      "{'album_id': '7tzVd1fwkxsorytCBjEJkU', 'name': 'The Idol Episode 4 (Music from the HBO Original Series)', 'release_date': '2023-06-23', 'total_tracks': 3, 'url': 'https://open.spotify.com/album/7tzVd1fwkxsorytCBjEJkU'}\n",
      "{'album_id': '1NAmidJlEaVgA3MpcPFYGq', 'name': 'Lover', 'release_date': '2019-08-23', 'total_tracks': 18, 'url': 'https://open.spotify.com/album/1NAmidJlEaVgA3MpcPFYGq'}\n",
      "{'album_id': '2RRYaYHY7fIIdvFlvgb5vq', 'name': 'american dream', 'release_date': '2024-01-12', 'total_tracks': 15, 'url': 'https://open.spotify.com/album/2RRYaYHY7fIIdvFlvgb5vq'}\n",
      "{'album_id': '50ZenUP4O2Q5eCy2NRNvuz', 'name': 'Stick Season', 'release_date': '2022-10-14', 'total_tracks': 14, 'url': 'https://open.spotify.com/album/50ZenUP4O2Q5eCy2NRNvuz'}\n",
      "{'album_id': '30KJEN3ICjhYsZ1NgunRCr', 'name': 'La Víctima', 'release_date': '2023-08-17', 'total_tracks': 1, 'url': 'https://open.spotify.com/album/30KJEN3ICjhYsZ1NgunRCr'}\n",
      "{'album_id': '0lgs2Sa82lyX89nBUWyUy6', 'name': 'FERXXOCALIPSIS', 'release_date': '2023-12-01', 'total_tracks': 10, 'url': 'https://open.spotify.com/album/0lgs2Sa82lyX89nBUWyUy6'}\n",
      "{'album_id': '0HMTQPl6rJmP7sQEaRYHRo', 'name': 'Young Miko: Bzrp Music Sessions, Vol. 58', 'release_date': '2024-01-10', 'total_tracks': 1, 'url': 'https://open.spotify.com/album/0HMTQPl6rJmP7sQEaRYHRo'}\n",
      "{'album_id': '5U20AVSsUvycGtWip4XQfo', 'name': 'ORQUÍDEAS', 'release_date': '2024-01-12', 'total_tracks': 14, 'url': 'https://open.spotify.com/album/5U20AVSsUvycGtWip4XQfo'}\n",
      "{'album_id': '5O0zUvdnJr0RbWzLFneN2i', 'name': 'Popular (Music from the HBO Original Series)', 'release_date': '2023-06-02', 'total_tracks': 1, 'url': 'https://open.spotify.com/album/5O0zUvdnJr0RbWzLFneN2i'}\n",
      "{'album_id': '2RRYaYHY7fIIdvFlvgb5vq', 'name': 'american dream', 'release_date': '2024-01-12', 'total_tracks': 15, 'url': 'https://open.spotify.com/album/2RRYaYHY7fIIdvFlvgb5vq'}\n",
      "{'album_id': '3VLY9g3CAG1Y5r2eGVEaZ0', 'name': 'BELLAKEO', 'release_date': '2023-12-07', 'total_tracks': 1, 'url': 'https://open.spotify.com/album/3VLY9g3CAG1Y5r2eGVEaZ0'}\n",
      "{'album_id': '1bBez9PNvkJPW08bU7NYta', 'name': 'Scarlet', 'release_date': '2023-09-20', 'total_tracks': 15, 'url': 'https://open.spotify.com/album/1bBez9PNvkJPW08bU7NYta'}\n",
      "{'album_id': '5pSk3c3wVwnb2arb6ohCPU', 'name': 'GOLDEN', 'release_date': '2023-11-03', 'total_tracks': 11, 'url': 'https://open.spotify.com/album/5pSk3c3wVwnb2arb6ohCPU'}\n",
      "{'album_id': '78bpIziExqiI9qztvNFlQu', 'name': 'AM', 'release_date': '2013-09-09', 'total_tracks': 12, 'url': 'https://open.spotify.com/album/78bpIziExqiI9qztvNFlQu'}\n",
      "{'album_id': '4FftCsAcXXD1nFO9RFUNFO', 'name': 'nadie sabe lo que va a pasar mañana', 'release_date': '2023-10-13', 'total_tracks': 22, 'url': 'https://open.spotify.com/album/4FftCsAcXXD1nFO9RFUNFO'}\n",
      "{'album_id': '18ogtNq9F7DmMkNYO6Xb4k', 'name': 'Strangers', 'release_date': '2023-09-01', 'total_tracks': 1, 'url': 'https://open.spotify.com/album/18ogtNq9F7DmMkNYO6Xb4k'}\n",
      "{'album_id': '68ishLKwqH5oH79kUteEHG', 'name': 'Read My Lips', 'release_date': '2002-06-06', 'total_tracks': 15, 'url': 'https://open.spotify.com/album/68ishLKwqH5oH79kUteEHG'}\n",
      "{'album_id': '0FqAaUEyKCyUNFE1uQPZ7i', 'name': 'MAÑANA SERÁ BONITO (BICHOTA SEASON)', 'release_date': '2023-08-10', 'total_tracks': 9, 'url': 'https://open.spotify.com/album/0FqAaUEyKCyUNFE1uQPZ7i'}\n",
      "{'album_id': '1xJHno7SmdVtZAtXbdbDZp', 'name': 'GUTS', 'release_date': '2023-09-08', 'total_tracks': 12, 'url': 'https://open.spotify.com/album/1xJHno7SmdVtZAtXbdbDZp'}\n",
      "{'album_id': '5pSk3c3wVwnb2arb6ohCPU', 'name': 'GOLDEN', 'release_date': '2023-11-03', 'total_tracks': 11, 'url': 'https://open.spotify.com/album/5pSk3c3wVwnb2arb6ohCPU'}\n",
      "{'album_id': '22sXXkKgjEuawIFL1e1tRw', 'name': 'Water', 'release_date': '2023-07-28', 'total_tracks': 1, 'url': 'https://open.spotify.com/album/22sXXkKgjEuawIFL1e1tRw'}\n",
      "{'album_id': '2RRYaYHY7fIIdvFlvgb5vq', 'name': 'american dream', 'release_date': '2024-01-12', 'total_tracks': 15, 'url': 'https://open.spotify.com/album/2RRYaYHY7fIIdvFlvgb5vq'}\n",
      "{'album_id': '4x6cjOcVz44aiLSOHCLKPd', 'name': 'Que Onda', 'release_date': '2023-08-30', 'total_tracks': 1, 'url': 'https://open.spotify.com/album/4x6cjOcVz44aiLSOHCLKPd'}\n",
      "{'album_id': '7nacKlk586eLRBSIsrk9DB', 'name': \"I've Tried Everything But Therapy (Part 1)\", 'release_date': '2023-09-15', 'total_tracks': 10, 'url': 'https://open.spotify.com/album/7nacKlk586eLRBSIsrk9DB'}\n",
      "{'album_id': '2ODvWsOgouMbaA5xf0RkJe', 'name': 'Starboy', 'release_date': '2016-11-25', 'total_tracks': 18, 'url': 'https://open.spotify.com/album/2ODvWsOgouMbaA5xf0RkJe'}\n",
      "{'album_id': '3AafSrFIbJPH6BJHiJm1Cd', 'name': 'What Was I Made For? [From The Motion Picture \"Barbie\"]', 'release_date': '2023-07-13', 'total_tracks': 1, 'url': 'https://open.spotify.com/album/3AafSrFIbJPH6BJHiJm1Cd'}\n",
      "{'album_id': '5pTaRVLwZOFObIbRBubmeb', 'name': 'Houdini', 'release_date': '2023-11-09', 'total_tracks': 1, 'url': 'https://open.spotify.com/album/5pTaRVLwZOFObIbRBubmeb'}\n",
      "{'album_id': '66k6EGkPtYoN44anGIsEPW', 'name': 'Si No Estás', 'release_date': '2022-09-23', 'total_tracks': 1, 'url': 'https://open.spotify.com/album/66k6EGkPtYoN44anGIsEPW'}\n",
      "{'album_id': '5S9b8euumqMhQbMk0zzQdH', 'name': 'Dream Your Life Away (Special Edition)', 'release_date': '2014-09-09', 'total_tracks': 15, 'url': 'https://open.spotify.com/album/5S9b8euumqMhQbMk0zzQdH'}\n",
      "{'album_id': '1bBez9PNvkJPW08bU7NYta', 'name': 'Scarlet', 'release_date': '2023-09-20', 'total_tracks': 15, 'url': 'https://open.spotify.com/album/1bBez9PNvkJPW08bU7NYta'}\n",
      "{'album_id': '3yoNZlqerJnsnMN5EDwwBS', 'name': 'Strange Trails', 'release_date': '2015-04-07', 'total_tracks': 14, 'url': 'https://open.spotify.com/album/3yoNZlqerJnsnMN5EDwwBS'}\n",
      "{'album_id': '6NcI39WPu4kY6Tul11nhSv', 'name': 'Daylight', 'release_date': '2023-04-14', 'total_tracks': 1, 'url': 'https://open.spotify.com/album/6NcI39WPu4kY6Tul11nhSv'}\n",
      "{'album_id': '3zu0hJJew2qXZNlselIQk8', 'name': \"Pa las Baby's Y Belikeada\", 'release_date': '2023-10-20', 'total_tracks': 30, 'url': 'https://open.spotify.com/album/3zu0hJJew2qXZNlselIQk8'}\n",
      "{'album_id': '5r36AJ6VOJtp00oxSkBZ5h', 'name': \"Harry's House\", 'release_date': '2022-05-20', 'total_tracks': 13, 'url': 'https://open.spotify.com/album/5r36AJ6VOJtp00oxSkBZ5h'}\n",
      "{'album_id': '4rJDCELWL0fjdmN9Gn4f4g', 'name': 'The Forever Story (Extended Version)', 'release_date': '2022-10-31', 'total_tracks': 16, 'url': 'https://open.spotify.com/album/4rJDCELWL0fjdmN9Gn4f4g'}\n",
      "{'album_id': '2RRYaYHY7fIIdvFlvgb5vq', 'name': 'american dream', 'release_date': '2024-01-12', 'total_tracks': 15, 'url': 'https://open.spotify.com/album/2RRYaYHY7fIIdvFlvgb5vq'}\n",
      "{'album_id': '4czdORdCWP9umpbhFXK2fW', 'name': 'For All The Dogs', 'release_date': '2023-10-06', 'total_tracks': 23, 'url': 'https://open.spotify.com/album/4czdORdCWP9umpbhFXK2fW'}\n",
      "{'album_id': '5MU0RmBSpoSxOPYBfcobDc', 'name': 'Prada', 'release_date': '2023-08-11', 'total_tracks': 1, 'url': 'https://open.spotify.com/album/5MU0RmBSpoSxOPYBfcobDc'}\n",
      "{'album_id': '2g4aJTa5ejGpp0O0GKzWAQ', 'name': 'emails i can’t send fwd:', 'release_date': '2023-03-17', 'total_tracks': 17, 'url': 'https://open.spotify.com/album/2g4aJTa5ejGpp0O0GKzWAQ'}\n",
      "{'album_id': '6PbnGueEO6LGodPfvNldYf', 'name': 'Zach Bryan', 'release_date': '2023-08-25', 'total_tracks': 16, 'url': 'https://open.spotify.com/album/6PbnGueEO6LGodPfvNldYf'}\n",
      "{'album_id': '1nrVofqDRs7cpWXJ49qTnP', 'name': 'SOS', 'release_date': '2022-12-08', 'total_tracks': 23, 'url': 'https://open.spotify.com/album/1nrVofqDRs7cpWXJ49qTnP'}\n",
      "{'album_id': '3Fk8yQvPlCHgwR2pNhEIRA', 'name': 'Don Juan', 'release_date': '2023-08-25', 'total_tracks': 25, 'url': 'https://open.spotify.com/album/3Fk8yQvPlCHgwR2pNhEIRA'}\n",
      "{'album_id': '5cH7FqB7JD5q1tJXJ7FHYu', 'name': 'Dance The Night (From Barbie The Album)', 'release_date': '2023-05-25', 'total_tracks': 1, 'url': 'https://open.spotify.com/album/5cH7FqB7JD5q1tJXJ7FHYu'}\n",
      "{'album_id': '4AdZV63ycxFLF6Hcol0QnB', 'name': 'Starboy', 'release_date': '2016-11-24', 'total_tracks': 18, 'url': 'https://open.spotify.com/album/4AdZV63ycxFLF6Hcol0QnB'}\n",
      "{'album_id': '4xc3Lc9yASZgEJGH7acWMB', 'name': 'FACE', 'release_date': '2023-03-24', 'total_tracks': 6, 'url': 'https://open.spotify.com/album/4xc3Lc9yASZgEJGH7acWMB'}\n"
     ]
    }
   ],
   "source": [
    "album_list=[]\n",
    "for row in data[\"items\"]:\n",
    "    album_id=row['track']['album']['id']\n",
    "    album_name=row['track']['album']['name']\n",
    "    album_release_date=row['track']['album']['release_date']\n",
    "    album_total_tracks=row['track']['album']['total_tracks']\n",
    "    album_url=row['track']['album']['external_urls']['spotify']\n",
    "    album_element={'album_id':album_id,'name':album_name,'release_date':album_release_date,'total_tracks':album_total_tracks, 'url':album_url}\n",
    "    print(album_element)\n",
    "    album_list.append(album_element)"
   ]
  },
  {
   "cell_type": "code",
   "execution_count": 31,
   "id": "636b9bfa-8842-4914-beb8-6b8d29c9f7d7",
   "metadata": {},
   "outputs": [],
   "source": [
    "artist_list=[]\n",
    "for row in data[\"items\"]:\n",
    "    for key,value in row.items():\n",
    "        if key=='track':\n",
    "            for artist in value['artists']:\n",
    "                artist_dict={'artist_id':artist['id'],'artist_name':artist['name'],'external_url':artist['href']}\n",
    "                artist_list.append(artist_dict)"
   ]
  },
  {
   "cell_type": "code",
   "execution_count": 36,
   "id": "29b5e53e-1e88-440a-b85e-b0b54298c554",
   "metadata": {},
   "outputs": [
    {
     "name": "stdout",
     "output_type": "stream",
     "text": [
      "{'song_id': '7gaA3wERFkFkgivjwbSvkG', 'song_name': 'yes, and?', 'song_duration': 214994, 'song_url': 'https://open.spotify.com/track/7gaA3wERFkFkgivjwbSvkG', 'song_popularity': 94, 'song_added': '2024-01-19T09:41:17Z', 'album_id': '2B9amdrHDIKOoEiPUfZGtb', 'artist_id': '66CXWjxzNUsdJxJ2JdwvnR'}\n",
      "{'song_id': '0R6NfOiLzLj4O5VbYSJAjf', 'song_name': 'La Diabla', 'song_duration': 172264, 'song_url': 'https://open.spotify.com/track/0R6NfOiLzLj4O5VbYSJAjf', 'song_popularity': 98, 'song_added': '2024-01-19T09:41:17Z', 'album_id': '2IoSjweCu07y9mv5H1Cj3v', 'artist_id': '3Me35AWHCGqW4sZ7bWWJt1'}\n",
      "{'song_id': '3rUGC1vUpkDG9CZFHMur1t', 'song_name': 'greedy', 'song_duration': 131872, 'song_url': 'https://open.spotify.com/track/3rUGC1vUpkDG9CZFHMur1t', 'song_popularity': 100, 'song_added': '2024-01-19T09:41:17Z', 'album_id': '3UOV8XvCwMKaATRNXrYCjN', 'artist_id': '45dkTj5sMRSjrmBSBeiHym'}\n",
      "{'song_id': '4xhsWYTOGcal8zt0J161CU', 'song_name': 'Lovin On Me', 'song_duration': 138411, 'song_url': 'https://open.spotify.com/track/4xhsWYTOGcal8zt0J161CU', 'song_popularity': 99, 'song_added': '2024-01-19T09:41:17Z', 'album_id': '6VCO0fDBGbRW8mCEvV95af', 'artist_id': '2LIk90788K0zvyj2JJVwkJ'}\n",
      "{'song_id': '3vkCueOmm7xQDoJ17W1Pm3', 'song_name': 'My Love Mine All Mine', 'song_duration': 137773, 'song_url': 'https://open.spotify.com/track/3vkCueOmm7xQDoJ17W1Pm3', 'song_popularity': 99, 'song_added': '2024-01-19T09:41:17Z', 'album_id': '2Cn1d2KgbkAqbZCJ1RzdkA', 'artist_id': '2uYWxilOVlUdk4oV9DvwqK'}\n",
      "{'song_id': '7CyPwkp0oE8Ro9Dd5CUDjW', 'song_name': 'One Of The Girls (with JENNIE, Lily Rose Depp)', 'song_duration': 244684, 'song_url': 'https://open.spotify.com/track/7CyPwkp0oE8Ro9Dd5CUDjW', 'song_popularity': 97, 'song_added': '2024-01-19T09:41:17Z', 'album_id': '7tzVd1fwkxsorytCBjEJkU', 'artist_id': '1Xyo4u8uXC1ZmMpatF05PJ'}\n",
      "{'song_id': '1BxfuPKGuaTgP7aM0Bbdwr', 'song_name': 'Cruel Summer', 'song_duration': 178426, 'song_url': 'https://open.spotify.com/track/1BxfuPKGuaTgP7aM0Bbdwr', 'song_popularity': 99, 'song_added': '2024-01-19T09:41:17Z', 'album_id': '1NAmidJlEaVgA3MpcPFYGq', 'artist_id': '06HL4z0CvFAxyc27GXpf02'}\n",
      "{'song_id': '52eIcoLUM25zbQupAZYoFh', 'song_name': 'redrum', 'song_duration': 270697, 'song_url': 'https://open.spotify.com/track/52eIcoLUM25zbQupAZYoFh', 'song_popularity': 89, 'song_added': '2024-01-19T09:41:17Z', 'album_id': '2RRYaYHY7fIIdvFlvgb5vq', 'artist_id': '1URnnhqYAYcrqrcwql10ft'}\n",
      "{'song_id': '0mflMxspEfB0VbI1kyLiAv', 'song_name': 'Stick Season', 'song_duration': 182346, 'song_url': 'https://open.spotify.com/track/0mflMxspEfB0VbI1kyLiAv', 'song_popularity': 96, 'song_added': '2024-01-19T09:41:17Z', 'album_id': '50ZenUP4O2Q5eCy2NRNvuz', 'artist_id': '2RQXRUsr4IW1f3mKyKsy4B'}\n",
      "{'song_id': '5XVdHRf4CAJ2Jm0uMIy5qY', 'song_name': 'La Víctima', 'song_duration': 156345, 'song_url': 'https://open.spotify.com/track/5XVdHRf4CAJ2Jm0uMIy5qY', 'song_popularity': 96, 'song_added': '2024-01-19T09:41:17Z', 'album_id': '30KJEN3ICjhYsZ1NgunRCr', 'artist_id': '3Me35AWHCGqW4sZ7bWWJt1'}\n",
      "{'song_id': '7bywjHOc0wSjGGbj04XbVi', 'song_name': 'LUNA', 'song_duration': 196800, 'song_url': 'https://open.spotify.com/track/7bywjHOc0wSjGGbj04XbVi', 'song_popularity': 95, 'song_added': '2024-01-19T09:41:17Z', 'album_id': '0lgs2Sa82lyX89nBUWyUy6', 'artist_id': '2LRoIwlKmHjgvigdNGBHNo'}\n",
      "{'song_id': '6VciS3dRMpZhJiDxT8ArFi', 'song_name': 'Young Miko: Bzrp Music Sessions, Vol. 58', 'song_duration': 187172, 'song_url': 'https://open.spotify.com/track/6VciS3dRMpZhJiDxT8ArFi', 'song_popularity': 90, 'song_added': '2024-01-19T09:41:17Z', 'album_id': '0HMTQPl6rJmP7sQEaRYHRo', 'artist_id': '716NhGYqD1jl2wI1Qkgq36'}\n",
      "{'song_id': '6XaJfhwof7qIgbbXO5tIQI', 'song_name': 'Igual Que Un Ángel (with Peso Pluma)', 'song_duration': 260370, 'song_url': 'https://open.spotify.com/track/6XaJfhwof7qIgbbXO5tIQI', 'song_popularity': 89, 'song_added': '2024-01-19T09:41:17Z', 'album_id': '5U20AVSsUvycGtWip4XQfo', 'artist_id': '1U1el3k54VvEUzo3ybLPlM'}\n",
      "{'song_id': '6WzRpISELf3YglGAh7TXcG', 'song_name': 'Popular (with Playboi Carti & Madonna) - Music from the HBO Original Series', 'song_duration': 215466, 'song_url': 'https://open.spotify.com/track/6WzRpISELf3YglGAh7TXcG', 'song_popularity': 95, 'song_added': '2024-01-19T09:41:17Z', 'album_id': '5O0zUvdnJr0RbWzLFneN2i', 'artist_id': '1Xyo4u8uXC1ZmMpatF05PJ'}\n",
      "{'song_id': '2yUzr8Sr6ldG8vmHhZwTnz', 'song_name': 'née-nah', 'song_duration': 220584, 'song_url': 'https://open.spotify.com/track/2yUzr8Sr6ldG8vmHhZwTnz', 'song_popularity': 87, 'song_added': '2024-01-19T09:41:17Z', 'album_id': '2RRYaYHY7fIIdvFlvgb5vq', 'artist_id': '1URnnhqYAYcrqrcwql10ft'}\n",
      "{'song_id': '05WVKTdZhlIMX4qqMLuo0f', 'song_name': 'BELLAKEO', 'song_duration': 197333, 'song_url': 'https://open.spotify.com/track/05WVKTdZhlIMX4qqMLuo0f', 'song_popularity': 95, 'song_added': '2024-01-19T09:41:17Z', 'album_id': '3VLY9g3CAG1Y5r2eGVEaZ0', 'artist_id': '12GqGscKJx3aE4t07u7eVZ'}\n",
      "{'song_id': '56y1jOTK0XSvJzVv9vHQBK', 'song_name': 'Paint The Town Red', 'song_duration': 230480, 'song_url': 'https://open.spotify.com/track/56y1jOTK0XSvJzVv9vHQBK', 'song_popularity': 88, 'song_added': '2024-01-19T09:41:17Z', 'album_id': '1bBez9PNvkJPW08bU7NYta', 'artist_id': '5cj0lLjcoR7YOSnhnX0Po5'}\n",
      "{'song_id': '2HRgqmZQC0MC7GeNuDIXHN', 'song_name': 'Seven (feat. Latto) (Explicit Ver.)', 'song_duration': 183550, 'song_url': 'https://open.spotify.com/track/2HRgqmZQC0MC7GeNuDIXHN', 'song_popularity': 91, 'song_added': '2024-01-19T09:41:17Z', 'album_id': '5pSk3c3wVwnb2arb6ohCPU', 'artist_id': '6HaGTQPmzraVmaVxvz6EUc'}\n",
      "{'song_id': '5XeFesFbtLpXzIVDNQP22n', 'song_name': 'I Wanna Be Yours', 'song_duration': 183956, 'song_url': 'https://open.spotify.com/track/5XeFesFbtLpXzIVDNQP22n', 'song_popularity': 96, 'song_added': '2024-01-19T09:41:17Z', 'album_id': '78bpIziExqiI9qztvNFlQu', 'artist_id': '7Ln80lUS6He07XvHI8qqHH'}\n",
      "{'song_id': '7iQXYTyuG13aoeHxGG28Nh', 'song_name': 'PERRO NEGRO', 'song_duration': 162767, 'song_url': 'https://open.spotify.com/track/7iQXYTyuG13aoeHxGG28Nh', 'song_popularity': 96, 'song_added': '2024-01-19T09:41:17Z', 'album_id': '4FftCsAcXXD1nFO9RFUNFO', 'artist_id': '4q3ewBCX7sLwd24euuV69X'}\n",
      "{'song_id': '5mjYQaktjmjcMKcUIcqz4s', 'song_name': 'Strangers', 'song_duration': 172964, 'song_url': 'https://open.spotify.com/track/5mjYQaktjmjcMKcUIcqz4s', 'song_popularity': 96, 'song_added': '2024-01-19T09:41:17Z', 'album_id': '18ogtNq9F7DmMkNYO6Xb4k', 'artist_id': '7uMDnSZyUYNBPLhPMNuaM2'}\n",
      "{'song_id': '4tKGFmENO69tZR9ahgZu48', 'song_name': 'Murder On The Dancefloor', 'song_duration': 230013, 'song_url': 'https://open.spotify.com/track/4tKGFmENO69tZR9ahgZu48', 'song_popularity': 88, 'song_added': '2024-01-19T09:41:17Z', 'album_id': '68ishLKwqH5oH79kUteEHG', 'artist_id': '2cBh5lVMg222FFuRU7EfDE'}\n",
      "{'song_id': '5RqSsdzTNPX1uzkmlHCFvK', 'song_name': 'QLONA', 'song_duration': 172797, 'song_url': 'https://open.spotify.com/track/5RqSsdzTNPX1uzkmlHCFvK', 'song_popularity': 93, 'song_added': '2024-01-19T09:41:17Z', 'album_id': '0FqAaUEyKCyUNFE1uQPZ7i', 'artist_id': '790FomKkXshlbRYZFtlgla'}\n",
      "{'song_id': '1kuGVB7EU95pJObxwvfwKS', 'song_name': 'vampire', 'song_duration': 219724, 'song_url': 'https://open.spotify.com/track/1kuGVB7EU95pJObxwvfwKS', 'song_popularity': 95, 'song_added': '2024-01-19T09:41:17Z', 'album_id': '1xJHno7SmdVtZAtXbdbDZp', 'artist_id': '1McMsnEElThX1knmY4oliG'}\n",
      "{'song_id': '2KslE17cAJNHTsI2MI0jb2', 'song_name': 'Standing Next to You', 'song_duration': 206019, 'song_url': 'https://open.spotify.com/track/2KslE17cAJNHTsI2MI0jb2', 'song_popularity': 97, 'song_added': '2024-01-19T09:41:17Z', 'album_id': '5pSk3c3wVwnb2arb6ohCPU', 'artist_id': '6HaGTQPmzraVmaVxvz6EUc'}\n",
      "{'song_id': '5aIVCx5tnk0ntmdiinnYvw', 'song_name': 'Water', 'song_duration': 200255, 'song_url': 'https://open.spotify.com/track/5aIVCx5tnk0ntmdiinnYvw', 'song_popularity': 95, 'song_added': '2024-01-19T09:41:17Z', 'album_id': '22sXXkKgjEuawIFL1e1tRw', 'artist_id': '3SozjO3Lat463tQICI9LcE'}\n",
      "{'song_id': '6x9pCndnXEoea0CMcfjs9W', 'song_name': 'n.h.i.e.', 'song_duration': 143718, 'song_url': 'https://open.spotify.com/track/6x9pCndnXEoea0CMcfjs9W', 'song_popularity': 86, 'song_added': '2024-01-19T09:41:17Z', 'album_id': '2RRYaYHY7fIIdvFlvgb5vq', 'artist_id': '1URnnhqYAYcrqrcwql10ft'}\n",
      "{'song_id': '6uIIdjYTxxpWOyWuVXrKQO', 'song_name': 'Que Onda', 'song_duration': 191466, 'song_url': 'https://open.spotify.com/track/6uIIdjYTxxpWOyWuVXrKQO', 'song_popularity': 95, 'song_added': '2024-01-19T09:41:17Z', 'album_id': '4x6cjOcVz44aiLSOHCLKPd', 'artist_id': '6dLuQ5qXxIuWc5urxfIiZR'}\n",
      "{'song_id': '17phhZDn6oGtzMe56NuWvj', 'song_name': 'Lose Control', 'song_duration': 210688, 'song_url': 'https://open.spotify.com/track/17phhZDn6oGtzMe56NuWvj', 'song_popularity': 89, 'song_added': '2024-01-19T09:41:17Z', 'album_id': '7nacKlk586eLRBSIsrk9DB', 'artist_id': '33qOK5uJ8AR2xuQQAhHump'}\n",
      "{'song_id': '7MXVkk9YMctZqd1Srtv4MB', 'song_name': 'Starboy', 'song_duration': 230453, 'song_url': 'https://open.spotify.com/track/7MXVkk9YMctZqd1Srtv4MB', 'song_popularity': 94, 'song_added': '2024-01-19T09:41:17Z', 'album_id': '2ODvWsOgouMbaA5xf0RkJe', 'artist_id': '1Xyo4u8uXC1ZmMpatF05PJ'}\n",
      "{'song_id': '6wf7Yu7cxBSPrRlWeSeK0Q', 'song_name': 'What Was I Made For? [From The Motion Picture \"Barbie\"]', 'song_duration': 222369, 'song_url': 'https://open.spotify.com/track/6wf7Yu7cxBSPrRlWeSeK0Q', 'song_popularity': 94, 'song_added': '2024-01-19T09:41:17Z', 'album_id': '3AafSrFIbJPH6BJHiJm1Cd', 'artist_id': '6qqNVTkY8uBg9cP3Jd7DAH'}\n",
      "{'song_id': '4OMJGnvZfDvsePyCwRGO7X', 'song_name': 'Houdini', 'song_duration': 185917, 'song_url': 'https://open.spotify.com/track/4OMJGnvZfDvsePyCwRGO7X', 'song_popularity': 94, 'song_added': '2024-01-19T09:41:17Z', 'album_id': '5pTaRVLwZOFObIbRBubmeb', 'artist_id': '6M2wZ9GZgrQXHCFfjv46we'}\n",
      "{'song_id': '2HafqoJbgXdtjwCOvNEF14', 'song_name': 'Si No Estás', 'song_duration': 184061, 'song_url': 'https://open.spotify.com/track/2HafqoJbgXdtjwCOvNEF14', 'song_popularity': 96, 'song_added': '2024-01-19T09:41:17Z', 'album_id': '66k6EGkPtYoN44anGIsEPW', 'artist_id': '0jbo7KFNMiIkfBR6ih0yhm'}\n",
      "{'song_id': '3JvrhDOgAt6p7K8mDyZwRd', 'song_name': 'Riptide', 'song_duration': 204280, 'song_url': 'https://open.spotify.com/track/3JvrhDOgAt6p7K8mDyZwRd', 'song_popularity': 85, 'song_added': '2024-01-19T09:41:17Z', 'album_id': '5S9b8euumqMhQbMk0zzQdH', 'artist_id': '10exVja0key0uqUkk6LJRT'}\n",
      "{'song_id': '5PyDJG7SQRgWXefgexqIge', 'song_name': 'Agora Hills', 'song_duration': 265360, 'song_url': 'https://open.spotify.com/track/5PyDJG7SQRgWXefgexqIge', 'song_popularity': 86, 'song_added': '2024-01-19T09:41:17Z', 'album_id': '1bBez9PNvkJPW08bU7NYta', 'artist_id': '5cj0lLjcoR7YOSnhnX0Po5'}\n",
      "{'song_id': '0QZ5yyl6B6utIWkxeBDxQN', 'song_name': 'The Night We Met', 'song_duration': 208211, 'song_url': 'https://open.spotify.com/track/0QZ5yyl6B6utIWkxeBDxQN', 'song_popularity': 83, 'song_added': '2024-01-19T09:41:17Z', 'album_id': '3yoNZlqerJnsnMN5EDwwBS', 'artist_id': '6ltzsmQQbmdoHHbLZ4ZN25'}\n",
      "{'song_id': '1odExI7RdWc4BT515LTAwj', 'song_name': 'Daylight', 'song_duration': 212953, 'song_url': 'https://open.spotify.com/track/1odExI7RdWc4BT515LTAwj', 'song_popularity': 95, 'song_added': '2024-01-19T09:41:17Z', 'album_id': '6NcI39WPu4kY6Tul11nhSv', 'artist_id': '33NVpKoXjItPwUJTMZIOiY'}\n",
      "{'song_id': '6CvTEtGagmzQvkUzzyKR9k', 'song_name': 'HARLEY QUINN', 'song_duration': 143327, 'song_url': 'https://open.spotify.com/track/6CvTEtGagmzQvkUzzyKR9k', 'song_popularity': 95, 'song_added': '2024-01-19T09:41:17Z', 'album_id': '3zu0hJJew2qXZNlselIQk8', 'artist_id': '0ys2OFYzWYB5hRDLCsBqxt'}\n",
      "{'song_id': '4Dvkj6JhhA12EX05fT7y2e', 'song_name': 'As It Was', 'song_duration': 167303, 'song_url': 'https://open.spotify.com/track/4Dvkj6JhhA12EX05fT7y2e', 'song_popularity': 95, 'song_added': '2024-01-19T09:41:17Z', 'album_id': '5r36AJ6VOJtp00oxSkBZ5h', 'artist_id': '6KImCVD70vtIoJWnq6nGn3'}\n",
      "{'song_id': '1udwFobQ1JoOdWPQrp2b6u', 'song_name': 'Surround Sound (feat. 21 Savage & Baby Tate)', 'song_duration': 229938, 'song_url': 'https://open.spotify.com/track/1udwFobQ1JoOdWPQrp2b6u', 'song_popularity': 94, 'song_added': '2024-01-19T09:41:17Z', 'album_id': '4rJDCELWL0fjdmN9Gn4f4g', 'artist_id': '6U3ybJ9UHNKEdsH7ktGBZ7'}\n",
      "{'song_id': '2FoahzOSxJnalPA8aBUme3', 'song_name': 'all of me', 'song_duration': 198292, 'song_url': 'https://open.spotify.com/track/2FoahzOSxJnalPA8aBUme3', 'song_popularity': 86, 'song_added': '2024-01-19T09:41:17Z', 'album_id': '2RRYaYHY7fIIdvFlvgb5vq', 'artist_id': '1URnnhqYAYcrqrcwql10ft'}\n",
      "{'song_id': '1yeB8MUNeLo9Ek1UEpsyz6', 'song_name': 'Rich Baby Daddy (feat. Sexyy Red & SZA)', 'song_duration': 319191, 'song_url': 'https://open.spotify.com/track/1yeB8MUNeLo9Ek1UEpsyz6', 'song_popularity': 92, 'song_added': '2024-01-19T09:41:17Z', 'album_id': '4czdORdCWP9umpbhFXK2fW', 'artist_id': '3TVXtAsR1Inumwj472S9r4'}\n",
      "{'song_id': '59NraMJsLaMCVtwXTSia8i', 'song_name': 'Prada', 'song_duration': 132359, 'song_url': 'https://open.spotify.com/track/59NraMJsLaMCVtwXTSia8i', 'song_popularity': 94, 'song_added': '2024-01-19T09:41:17Z', 'album_id': '5MU0RmBSpoSxOPYBfcobDc', 'artist_id': '5wCmhq5J2hPwL2r0eKurxn'}\n",
      "{'song_id': '2Zo1PcszsT9WQ0ANntJbID', 'song_name': 'Feather', 'song_duration': 185552, 'song_url': 'https://open.spotify.com/track/2Zo1PcszsT9WQ0ANntJbID', 'song_popularity': 92, 'song_added': '2024-01-19T09:41:17Z', 'album_id': '2g4aJTa5ejGpp0O0GKzWAQ', 'artist_id': '74KM79TiuVKeVCqs8QtB0B'}\n",
      "{'song_id': '4KULAymBBJcPRpk1yO4dOG', 'song_name': 'I Remember Everything (feat. Kacey Musgraves)', 'song_duration': 227195, 'song_url': 'https://open.spotify.com/track/4KULAymBBJcPRpk1yO4dOG', 'song_popularity': 93, 'song_added': '2024-01-19T09:41:17Z', 'album_id': '6PbnGueEO6LGodPfvNldYf', 'artist_id': '40ZNYROS4zLfyyBSs2PGe2'}\n",
      "{'song_id': '1Qrg8KqiBpW07V7PNxwwwL', 'song_name': 'Kill Bill', 'song_duration': 153946, 'song_url': 'https://open.spotify.com/track/1Qrg8KqiBpW07V7PNxwwwL', 'song_popularity': 92, 'song_added': '2024-01-19T09:41:17Z', 'album_id': '1nrVofqDRs7cpWXJ49qTnP', 'artist_id': '7tYKF4w9nC0nq9CsPZTHyP'}\n",
      "{'song_id': '4bw8mcDUSRWfQo63ZTYRnU', 'song_name': 'Según Quién', 'song_duration': 142334, 'song_url': 'https://open.spotify.com/track/4bw8mcDUSRWfQo63ZTYRnU', 'song_popularity': 91, 'song_added': '2024-01-19T09:41:17Z', 'album_id': '3Fk8yQvPlCHgwR2pNhEIRA', 'artist_id': '1r4hJ1h58CWwUQe3MxPuau'}\n",
      "{'song_id': '1vYXt7VSjH9JIM5oRRo7vA', 'song_name': 'Dance The Night - From Barbie The Album', 'song_duration': 176579, 'song_url': 'https://open.spotify.com/track/1vYXt7VSjH9JIM5oRRo7vA', 'song_popularity': 93, 'song_added': '2024-01-19T09:41:17Z', 'album_id': '5cH7FqB7JD5q1tJXJ7FHYu', 'artist_id': '6M2wZ9GZgrQXHCFfjv46we'}\n",
      "{'song_id': '2LBqCSwhJGcFQeTHMVGwy3', 'song_name': 'Die For You', 'song_duration': 260253, 'song_url': 'https://open.spotify.com/track/2LBqCSwhJGcFQeTHMVGwy3', 'song_popularity': 91, 'song_added': '2024-01-19T09:41:17Z', 'album_id': '4AdZV63ycxFLF6Hcol0QnB', 'artist_id': '1Xyo4u8uXC1ZmMpatF05PJ'}\n",
      "{'song_id': '3Ua0m0YmEjrMi9XErKcNiR', 'song_name': 'Like Crazy', 'song_duration': 212241, 'song_url': 'https://open.spotify.com/track/3Ua0m0YmEjrMi9XErKcNiR', 'song_popularity': 93, 'song_added': '2024-01-19T09:41:17Z', 'album_id': '4xc3Lc9yASZgEJGH7acWMB', 'artist_id': '1oSPZhvZMIrWW5I41kPkkY'}\n"
     ]
    }
   ],
   "source": [
    "song_list=[]\n",
    "for row in data[\"items\"]:\n",
    "    song_id=row['track']['id']\n",
    "    song_name=row['track']['name']\n",
    "    song_duration=row['track']['duration_ms']\n",
    "    song_url=row['track']['external_urls']['spotify']\n",
    "    song_popularity=row['track']['popularity']\n",
    "    song_added=row['added_at']\n",
    "    album_id=row['track']['album']['id']\n",
    "    artist_id=row['track']['album']['artists'][0]['id']\n",
    "    song_element={'song_id':song_id,'song_name':song_name,'song_duration':song_duration,'song_url':song_url, 'song_popularity':song_popularity,\n",
    "    'song_added':song_added,'album_id':album_id,'artist_id':artist_id}\n",
    "    print(song_element)\n",
    "    song_list.append(song_element)"
   ]
  },
  {
   "cell_type": "code",
   "execution_count": 38,
   "id": "1d1fdfb2-6a42-46f3-b9e1-8969fb7edb6b",
   "metadata": {},
   "outputs": [],
   "source": [
    "album_df=pd.DataFrame.from_dict(album_list)"
   ]
  },
  {
   "cell_type": "code",
   "execution_count": 39,
   "id": "64805136-504f-452f-8e04-4a1d88d80164",
   "metadata": {},
   "outputs": [
    {
     "data": {
      "text/html": [
       "<div>\n",
       "<style scoped>\n",
       "    .dataframe tbody tr th:only-of-type {\n",
       "        vertical-align: middle;\n",
       "    }\n",
       "\n",
       "    .dataframe tbody tr th {\n",
       "        vertical-align: top;\n",
       "    }\n",
       "\n",
       "    .dataframe thead th {\n",
       "        text-align: right;\n",
       "    }\n",
       "</style>\n",
       "<table border=\"1\" class=\"dataframe\">\n",
       "  <thead>\n",
       "    <tr style=\"text-align: right;\">\n",
       "      <th></th>\n",
       "      <th>album_id</th>\n",
       "      <th>name</th>\n",
       "      <th>release_date</th>\n",
       "      <th>total_tracks</th>\n",
       "      <th>url</th>\n",
       "    </tr>\n",
       "  </thead>\n",
       "  <tbody>\n",
       "    <tr>\n",
       "      <th>0</th>\n",
       "      <td>2B9amdrHDIKOoEiPUfZGtb</td>\n",
       "      <td>yes, and?</td>\n",
       "      <td>2024-01-12</td>\n",
       "      <td>1</td>\n",
       "      <td>https://open.spotify.com/album/2B9amdrHDIKOoEi...</td>\n",
       "    </tr>\n",
       "    <tr>\n",
       "      <th>1</th>\n",
       "      <td>2IoSjweCu07y9mv5H1Cj3v</td>\n",
       "      <td>La Diabla</td>\n",
       "      <td>2023-11-30</td>\n",
       "      <td>1</td>\n",
       "      <td>https://open.spotify.com/album/2IoSjweCu07y9mv...</td>\n",
       "    </tr>\n",
       "    <tr>\n",
       "      <th>2</th>\n",
       "      <td>3UOV8XvCwMKaATRNXrYCjN</td>\n",
       "      <td>greedy</td>\n",
       "      <td>2023-09-15</td>\n",
       "      <td>1</td>\n",
       "      <td>https://open.spotify.com/album/3UOV8XvCwMKaATR...</td>\n",
       "    </tr>\n",
       "    <tr>\n",
       "      <th>3</th>\n",
       "      <td>6VCO0fDBGbRW8mCEvV95af</td>\n",
       "      <td>Lovin On Me</td>\n",
       "      <td>2023-11-10</td>\n",
       "      <td>1</td>\n",
       "      <td>https://open.spotify.com/album/6VCO0fDBGbRW8mC...</td>\n",
       "    </tr>\n",
       "    <tr>\n",
       "      <th>4</th>\n",
       "      <td>2Cn1d2KgbkAqbZCJ1RzdkA</td>\n",
       "      <td>The Land Is Inhospitable and So Are We</td>\n",
       "      <td>2023-09-15</td>\n",
       "      <td>11</td>\n",
       "      <td>https://open.spotify.com/album/2Cn1d2KgbkAqbZC...</td>\n",
       "    </tr>\n",
       "  </tbody>\n",
       "</table>\n",
       "</div>"
      ],
      "text/plain": [
       "                 album_id                                    name  \\\n",
       "0  2B9amdrHDIKOoEiPUfZGtb                               yes, and?   \n",
       "1  2IoSjweCu07y9mv5H1Cj3v                               La Diabla   \n",
       "2  3UOV8XvCwMKaATRNXrYCjN                                  greedy   \n",
       "3  6VCO0fDBGbRW8mCEvV95af                             Lovin On Me   \n",
       "4  2Cn1d2KgbkAqbZCJ1RzdkA  The Land Is Inhospitable and So Are We   \n",
       "\n",
       "  release_date  total_tracks  \\\n",
       "0   2024-01-12             1   \n",
       "1   2023-11-30             1   \n",
       "2   2023-09-15             1   \n",
       "3   2023-11-10             1   \n",
       "4   2023-09-15            11   \n",
       "\n",
       "                                                 url  \n",
       "0  https://open.spotify.com/album/2B9amdrHDIKOoEi...  \n",
       "1  https://open.spotify.com/album/2IoSjweCu07y9mv...  \n",
       "2  https://open.spotify.com/album/3UOV8XvCwMKaATR...  \n",
       "3  https://open.spotify.com/album/6VCO0fDBGbRW8mC...  \n",
       "4  https://open.spotify.com/album/2Cn1d2KgbkAqbZC...  "
      ]
     },
     "execution_count": 39,
     "metadata": {},
     "output_type": "execute_result"
    }
   ],
   "source": [
    "album_df.head()"
   ]
  },
  {
   "cell_type": "code",
   "execution_count": 40,
   "id": "cd165e7c-1a63-4107-9382-921c04c781ba",
   "metadata": {},
   "outputs": [
    {
     "name": "stdout",
     "output_type": "stream",
     "text": [
      "<class 'pandas.core.frame.DataFrame'>\n",
      "RangeIndex: 50 entries, 0 to 49\n",
      "Data columns (total 5 columns):\n",
      " #   Column        Non-Null Count  Dtype \n",
      "---  ------        --------------  ----- \n",
      " 0   album_id      50 non-null     object\n",
      " 1   name          50 non-null     object\n",
      " 2   release_date  50 non-null     object\n",
      " 3   total_tracks  50 non-null     int64 \n",
      " 4   url           50 non-null     object\n",
      "dtypes: int64(1), object(4)\n",
      "memory usage: 2.1+ KB\n"
     ]
    }
   ],
   "source": [
    "album_df.info()"
   ]
  },
  {
   "cell_type": "code",
   "execution_count": 41,
   "id": "b9d5c2bf-9c0b-41ef-9640-6cf56c4d83cf",
   "metadata": {},
   "outputs": [],
   "source": [
    "album_df=album_df.drop_duplicates(subset=['album_id'])"
   ]
  },
  {
   "cell_type": "code",
   "execution_count": 42,
   "id": "e8524eed-fc6b-419e-bcf3-171e9aefdb9c",
   "metadata": {},
   "outputs": [],
   "source": [
    "artist_df=pd.DataFrame.from_dict(artist_list)"
   ]
  },
  {
   "cell_type": "code",
   "execution_count": 44,
   "id": "25b0c7b7-c0e4-4cc2-9e97-983cc9e77524",
   "metadata": {},
   "outputs": [],
   "source": [
    "artist_df=artist_df.drop_duplicates(subset=['artist_id'])"
   ]
  },
  {
   "cell_type": "code",
   "execution_count": 45,
   "id": "c2c96510-6f23-40ea-b2d9-0c5d161d7681",
   "metadata": {},
   "outputs": [],
   "source": [
    "song_df=pd.DataFrame.from_dict(song_list)"
   ]
  },
  {
   "cell_type": "code",
   "execution_count": 46,
   "id": "eee2055a-ab36-4e86-a566-a26fd0059b52",
   "metadata": {},
   "outputs": [
    {
     "data": {
      "text/html": [
       "<div>\n",
       "<style scoped>\n",
       "    .dataframe tbody tr th:only-of-type {\n",
       "        vertical-align: middle;\n",
       "    }\n",
       "\n",
       "    .dataframe tbody tr th {\n",
       "        vertical-align: top;\n",
       "    }\n",
       "\n",
       "    .dataframe thead th {\n",
       "        text-align: right;\n",
       "    }\n",
       "</style>\n",
       "<table border=\"1\" class=\"dataframe\">\n",
       "  <thead>\n",
       "    <tr style=\"text-align: right;\">\n",
       "      <th></th>\n",
       "      <th>song_id</th>\n",
       "      <th>song_name</th>\n",
       "      <th>song_duration</th>\n",
       "      <th>song_url</th>\n",
       "      <th>song_popularity</th>\n",
       "      <th>song_added</th>\n",
       "      <th>album_id</th>\n",
       "      <th>artist_id</th>\n",
       "    </tr>\n",
       "  </thead>\n",
       "  <tbody>\n",
       "    <tr>\n",
       "      <th>0</th>\n",
       "      <td>7gaA3wERFkFkgivjwbSvkG</td>\n",
       "      <td>yes, and?</td>\n",
       "      <td>214994</td>\n",
       "      <td>https://open.spotify.com/track/7gaA3wERFkFkgiv...</td>\n",
       "      <td>94</td>\n",
       "      <td>2024-01-19T09:41:17Z</td>\n",
       "      <td>2B9amdrHDIKOoEiPUfZGtb</td>\n",
       "      <td>66CXWjxzNUsdJxJ2JdwvnR</td>\n",
       "    </tr>\n",
       "    <tr>\n",
       "      <th>1</th>\n",
       "      <td>0R6NfOiLzLj4O5VbYSJAjf</td>\n",
       "      <td>La Diabla</td>\n",
       "      <td>172264</td>\n",
       "      <td>https://open.spotify.com/track/0R6NfOiLzLj4O5V...</td>\n",
       "      <td>98</td>\n",
       "      <td>2024-01-19T09:41:17Z</td>\n",
       "      <td>2IoSjweCu07y9mv5H1Cj3v</td>\n",
       "      <td>3Me35AWHCGqW4sZ7bWWJt1</td>\n",
       "    </tr>\n",
       "    <tr>\n",
       "      <th>2</th>\n",
       "      <td>3rUGC1vUpkDG9CZFHMur1t</td>\n",
       "      <td>greedy</td>\n",
       "      <td>131872</td>\n",
       "      <td>https://open.spotify.com/track/3rUGC1vUpkDG9CZ...</td>\n",
       "      <td>100</td>\n",
       "      <td>2024-01-19T09:41:17Z</td>\n",
       "      <td>3UOV8XvCwMKaATRNXrYCjN</td>\n",
       "      <td>45dkTj5sMRSjrmBSBeiHym</td>\n",
       "    </tr>\n",
       "    <tr>\n",
       "      <th>3</th>\n",
       "      <td>4xhsWYTOGcal8zt0J161CU</td>\n",
       "      <td>Lovin On Me</td>\n",
       "      <td>138411</td>\n",
       "      <td>https://open.spotify.com/track/4xhsWYTOGcal8zt...</td>\n",
       "      <td>99</td>\n",
       "      <td>2024-01-19T09:41:17Z</td>\n",
       "      <td>6VCO0fDBGbRW8mCEvV95af</td>\n",
       "      <td>2LIk90788K0zvyj2JJVwkJ</td>\n",
       "    </tr>\n",
       "    <tr>\n",
       "      <th>4</th>\n",
       "      <td>3vkCueOmm7xQDoJ17W1Pm3</td>\n",
       "      <td>My Love Mine All Mine</td>\n",
       "      <td>137773</td>\n",
       "      <td>https://open.spotify.com/track/3vkCueOmm7xQDoJ...</td>\n",
       "      <td>99</td>\n",
       "      <td>2024-01-19T09:41:17Z</td>\n",
       "      <td>2Cn1d2KgbkAqbZCJ1RzdkA</td>\n",
       "      <td>2uYWxilOVlUdk4oV9DvwqK</td>\n",
       "    </tr>\n",
       "  </tbody>\n",
       "</table>\n",
       "</div>"
      ],
      "text/plain": [
       "                  song_id              song_name  song_duration  \\\n",
       "0  7gaA3wERFkFkgivjwbSvkG              yes, and?         214994   \n",
       "1  0R6NfOiLzLj4O5VbYSJAjf              La Diabla         172264   \n",
       "2  3rUGC1vUpkDG9CZFHMur1t                 greedy         131872   \n",
       "3  4xhsWYTOGcal8zt0J161CU            Lovin On Me         138411   \n",
       "4  3vkCueOmm7xQDoJ17W1Pm3  My Love Mine All Mine         137773   \n",
       "\n",
       "                                            song_url  song_popularity  \\\n",
       "0  https://open.spotify.com/track/7gaA3wERFkFkgiv...               94   \n",
       "1  https://open.spotify.com/track/0R6NfOiLzLj4O5V...               98   \n",
       "2  https://open.spotify.com/track/3rUGC1vUpkDG9CZ...              100   \n",
       "3  https://open.spotify.com/track/4xhsWYTOGcal8zt...               99   \n",
       "4  https://open.spotify.com/track/3vkCueOmm7xQDoJ...               99   \n",
       "\n",
       "             song_added                album_id               artist_id  \n",
       "0  2024-01-19T09:41:17Z  2B9amdrHDIKOoEiPUfZGtb  66CXWjxzNUsdJxJ2JdwvnR  \n",
       "1  2024-01-19T09:41:17Z  2IoSjweCu07y9mv5H1Cj3v  3Me35AWHCGqW4sZ7bWWJt1  \n",
       "2  2024-01-19T09:41:17Z  3UOV8XvCwMKaATRNXrYCjN  45dkTj5sMRSjrmBSBeiHym  \n",
       "3  2024-01-19T09:41:17Z  6VCO0fDBGbRW8mCEvV95af  2LIk90788K0zvyj2JJVwkJ  \n",
       "4  2024-01-19T09:41:17Z  2Cn1d2KgbkAqbZCJ1RzdkA  2uYWxilOVlUdk4oV9DvwqK  "
      ]
     },
     "execution_count": 46,
     "metadata": {},
     "output_type": "execute_result"
    }
   ],
   "source": [
    "song_df.head()"
   ]
  },
  {
   "cell_type": "code",
   "execution_count": 47,
   "id": "ceea2b90-4f7b-4d6f-8df0-084e34db101f",
   "metadata": {},
   "outputs": [
    {
     "data": {
      "text/html": [
       "<div>\n",
       "<style scoped>\n",
       "    .dataframe tbody tr th:only-of-type {\n",
       "        vertical-align: middle;\n",
       "    }\n",
       "\n",
       "    .dataframe tbody tr th {\n",
       "        vertical-align: top;\n",
       "    }\n",
       "\n",
       "    .dataframe thead th {\n",
       "        text-align: right;\n",
       "    }\n",
       "</style>\n",
       "<table border=\"1\" class=\"dataframe\">\n",
       "  <thead>\n",
       "    <tr style=\"text-align: right;\">\n",
       "      <th></th>\n",
       "      <th>artist_id</th>\n",
       "      <th>artist_name</th>\n",
       "      <th>external_url</th>\n",
       "    </tr>\n",
       "  </thead>\n",
       "  <tbody>\n",
       "    <tr>\n",
       "      <th>0</th>\n",
       "      <td>66CXWjxzNUsdJxJ2JdwvnR</td>\n",
       "      <td>Ariana Grande</td>\n",
       "      <td>https://api.spotify.com/v1/artists/66CXWjxzNUs...</td>\n",
       "    </tr>\n",
       "    <tr>\n",
       "      <th>1</th>\n",
       "      <td>3Me35AWHCGqW4sZ7bWWJt1</td>\n",
       "      <td>Xavi</td>\n",
       "      <td>https://api.spotify.com/v1/artists/3Me35AWHCGq...</td>\n",
       "    </tr>\n",
       "    <tr>\n",
       "      <th>2</th>\n",
       "      <td>45dkTj5sMRSjrmBSBeiHym</td>\n",
       "      <td>Tate McRae</td>\n",
       "      <td>https://api.spotify.com/v1/artists/45dkTj5sMRS...</td>\n",
       "    </tr>\n",
       "    <tr>\n",
       "      <th>3</th>\n",
       "      <td>2LIk90788K0zvyj2JJVwkJ</td>\n",
       "      <td>Jack Harlow</td>\n",
       "      <td>https://api.spotify.com/v1/artists/2LIk90788K0...</td>\n",
       "    </tr>\n",
       "    <tr>\n",
       "      <th>4</th>\n",
       "      <td>2uYWxilOVlUdk4oV9DvwqK</td>\n",
       "      <td>Mitski</td>\n",
       "      <td>https://api.spotify.com/v1/artists/2uYWxilOVlU...</td>\n",
       "    </tr>\n",
       "  </tbody>\n",
       "</table>\n",
       "</div>"
      ],
      "text/plain": [
       "                artist_id    artist_name  \\\n",
       "0  66CXWjxzNUsdJxJ2JdwvnR  Ariana Grande   \n",
       "1  3Me35AWHCGqW4sZ7bWWJt1           Xavi   \n",
       "2  45dkTj5sMRSjrmBSBeiHym     Tate McRae   \n",
       "3  2LIk90788K0zvyj2JJVwkJ    Jack Harlow   \n",
       "4  2uYWxilOVlUdk4oV9DvwqK         Mitski   \n",
       "\n",
       "                                        external_url  \n",
       "0  https://api.spotify.com/v1/artists/66CXWjxzNUs...  \n",
       "1  https://api.spotify.com/v1/artists/3Me35AWHCGq...  \n",
       "2  https://api.spotify.com/v1/artists/45dkTj5sMRS...  \n",
       "3  https://api.spotify.com/v1/artists/2LIk90788K0...  \n",
       "4  https://api.spotify.com/v1/artists/2uYWxilOVlU...  "
      ]
     },
     "execution_count": 47,
     "metadata": {},
     "output_type": "execute_result"
    }
   ],
   "source": [
    "artist_df.head()"
   ]
  },
  {
   "cell_type": "code",
   "execution_count": 48,
   "id": "c1d3ba93-339e-4ee5-8765-ef7e96046945",
   "metadata": {},
   "outputs": [],
   "source": [
    "album_df['release_date']=pd.to_datetime(album_df['release_date'])"
   ]
  },
  {
   "cell_type": "code",
   "execution_count": 49,
   "id": "0b7826eb-65b9-4a61-ba2f-a3997967c87a",
   "metadata": {},
   "outputs": [
    {
     "name": "stdout",
     "output_type": "stream",
     "text": [
      "<class 'pandas.core.frame.DataFrame'>\n",
      "Int64Index: 45 entries, 0 to 49\n",
      "Data columns (total 5 columns):\n",
      " #   Column        Non-Null Count  Dtype         \n",
      "---  ------        --------------  -----         \n",
      " 0   album_id      45 non-null     object        \n",
      " 1   name          45 non-null     object        \n",
      " 2   release_date  45 non-null     datetime64[ns]\n",
      " 3   total_tracks  45 non-null     int64         \n",
      " 4   url           45 non-null     object        \n",
      "dtypes: datetime64[ns](1), int64(1), object(3)\n",
      "memory usage: 2.1+ KB\n"
     ]
    }
   ],
   "source": [
    "album_df.info()"
   ]
  },
  {
   "cell_type": "code",
   "execution_count": 50,
   "id": "dc539137-788f-471a-98c0-668f922ea5a0",
   "metadata": {},
   "outputs": [],
   "source": [
    "song_df['song_added']=pd.to_datetime(song_df['song_added'])"
   ]
  },
  {
   "cell_type": "code",
   "execution_count": 51,
   "id": "274de941-b5d8-4345-aa16-6ee04045e894",
   "metadata": {},
   "outputs": [
    {
     "name": "stdout",
     "output_type": "stream",
     "text": [
      "<class 'pandas.core.frame.DataFrame'>\n",
      "RangeIndex: 50 entries, 0 to 49\n",
      "Data columns (total 8 columns):\n",
      " #   Column           Non-Null Count  Dtype              \n",
      "---  ------           --------------  -----              \n",
      " 0   song_id          50 non-null     object             \n",
      " 1   song_name        50 non-null     object             \n",
      " 2   song_duration    50 non-null     int64              \n",
      " 3   song_url         50 non-null     object             \n",
      " 4   song_popularity  50 non-null     int64              \n",
      " 5   song_added       50 non-null     datetime64[ns, UTC]\n",
      " 6   album_id         50 non-null     object             \n",
      " 7   artist_id        50 non-null     object             \n",
      "dtypes: datetime64[ns, UTC](1), int64(2), object(5)\n",
      "memory usage: 3.2+ KB\n"
     ]
    }
   ],
   "source": [
    "song_df.info()"
   ]
  },
  {
   "cell_type": "code",
   "execution_count": null,
   "id": "9e4d9230-2d5d-4f28-a94c-f86d016c00fb",
   "metadata": {},
   "outputs": [],
   "source": []
  }
 ],
 "metadata": {
  "kernelspec": {
   "display_name": "Python 3 (ipykernel)",
   "language": "python",
   "name": "python3"
  },
  "language_info": {
   "codemirror_mode": {
    "name": "ipython",
    "version": 3
   },
   "file_extension": ".py",
   "mimetype": "text/x-python",
   "name": "python",
   "nbconvert_exporter": "python",
   "pygments_lexer": "ipython3",
   "version": "3.9.13"
  }
 },
 "nbformat": 4,
 "nbformat_minor": 5
}
